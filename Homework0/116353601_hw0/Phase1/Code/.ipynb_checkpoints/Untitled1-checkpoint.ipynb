{
 "cells": [
  {
   "cell_type": "code",
   "execution_count": 31,
   "metadata": {},
   "outputs": [],
   "source": []
  },
  {
   "cell_type": "code",
   "execution_count": 32,
   "metadata": {},
   "outputs": [],
   "source": []
  },
  {
   "cell_type": "code",
   "execution_count": 33,
   "metadata": {},
   "outputs": [],
   "source": []
  },
  {
   "cell_type": "code",
   "execution_count": 34,
   "metadata": {},
   "outputs": [
    {
     "name": "stdout",
     "output_type": "stream",
     "text": [
      "11.0\n"
     ]
    }
   ],
   "source": []
  },
  {
   "cell_type": "code",
   "execution_count": 35,
   "metadata": {},
   "outputs": [
    {
     "name": "stdout",
     "output_type": "stream",
     "text": [
      "('Epoch accuracy is:', 343.3434343, '%')\n"
     ]
    }
   ],
   "source": []
  },
  {
   "cell_type": "code",
   "execution_count": 36,
   "metadata": {},
   "outputs": [
    {
     "ename": "NameError",
     "evalue": "name 'random_rotation' is not defined",
     "output_type": "error",
     "traceback": [
      "\u001b[0;31m---------------------------------------------------------------------------\u001b[0m",
      "\u001b[0;31mNameError\u001b[0m                                 Traceback (most recent call last)",
      "\u001b[0;32m<ipython-input-36-10bbe09942e9>\u001b[0m in \u001b[0;36m<module>\u001b[0;34m()\u001b[0m\n\u001b[1;32m      1\u001b[0m \u001b[0;32mimport\u001b[0m \u001b[0mmatplotlib\u001b[0m\u001b[0;34m.\u001b[0m\u001b[0mpyplot\u001b[0m \u001b[0;32mas\u001b[0m \u001b[0mplt\u001b[0m\u001b[0;34m\u001b[0m\u001b[0m\n\u001b[1;32m      2\u001b[0m \u001b[0ma\u001b[0m\u001b[0;34m=\u001b[0m\u001b[0mcv2\u001b[0m\u001b[0;34m.\u001b[0m\u001b[0mimread\u001b[0m\u001b[0;34m(\u001b[0m\u001b[0;34m'/home/kartikmadhira/CMSC733/YourDirectoryID_hw0/Phase2/CIFAR10/Test/2124.png'\u001b[0m\u001b[0;34m)\u001b[0m\u001b[0;34m\u001b[0m\u001b[0m\n\u001b[0;32m----> 3\u001b[0;31m \u001b[0ma\u001b[0m\u001b[0;34m=\u001b[0m\u001b[0mrandom_rotation\u001b[0m\u001b[0;34m(\u001b[0m\u001b[0ma\u001b[0m\u001b[0;34m)\u001b[0m\u001b[0;34m\u001b[0m\u001b[0m\n\u001b[0m\u001b[1;32m      4\u001b[0m \u001b[0mplt\u001b[0m\u001b[0;34m.\u001b[0m\u001b[0mimshow\u001b[0m\u001b[0;34m(\u001b[0m\u001b[0ma\u001b[0m\u001b[0;34m)\u001b[0m\u001b[0;34m\u001b[0m\u001b[0m\n",
      "\u001b[0;31mNameError\u001b[0m: name 'random_rotation' is not defined"
     ]
    }
   ],
   "source": []
  },
  {
   "cell_type": "code",
   "execution_count": null,
   "metadata": {},
   "outputs": [],
   "source": []
  },
  {
   "cell_type": "code",
   "execution_count": 41,
   "metadata": {},
   "outputs": [
    {
     "data": {
      "text/plain": [
       "array([[0.        , 0.        ],\n",
       "       [1.        , 0.87395083],\n",
       "       [2.        , 0.39779185],\n",
       "       [3.        , 0.30965953],\n",
       "       [4.        , 0.66842012],\n",
       "       [5.        , 0.20859928],\n",
       "       [6.        , 0.45798091],\n",
       "       [7.        , 0.20437172],\n",
       "       [8.        , 0.35694571],\n",
       "       [9.        , 0.25835714]])"
      ]
     },
     "execution_count": 41,
     "metadata": {},
     "output_type": "execute_result"
    },
    {
     "data": {
      "image/png": "[encoded data removed]",
      "text/plain": [
       "<Figure size 432x288 with 1 Axes>"
      ]
     },
     "metadata": {
      "needs_background": "light"
     },
     "output_type": "display_data"
    }
   ],
   "source": []
  },
  {
   "cell_type": "code",
   "execution_count": null,
   "metadata": {},
   "outputs": [],
   "source": []
  },
  {
   "cell_type": "code",
   "execution_count": 42,
   "metadata": {},
   "outputs": [
    {
     "ename": "IOError",
     "evalue": "[Errno 2] No such file or directory: 'Graphs/accEpochs.png'",
     "output_type": "error",
     "traceback": [
      "\u001b[0;31m---------------------------------------------------------------------------\u001b[0m",
      "\u001b[0;31mIOError\u001b[0m                                   Traceback (most recent call last)",
      "\u001b[0;32m<ipython-input-42-b891451cc0a2>\u001b[0m in \u001b[0;36m<module>\u001b[0;34m()\u001b[0m\n\u001b[1;32m      5\u001b[0m \u001b[0mplt\u001b[0m\u001b[0;34m.\u001b[0m\u001b[0mylabel\u001b[0m\u001b[0;34m(\u001b[0m\u001b[0;34m'Accuracy'\u001b[0m\u001b[0;34m)\u001b[0m\u001b[0;34m\u001b[0m\u001b[0m\n\u001b[1;32m      6\u001b[0m \u001b[0mplt\u001b[0m\u001b[0;34m.\u001b[0m\u001b[0mplot\u001b[0m\u001b[0;34m(\u001b[0m\u001b[0md\u001b[0m\u001b[0;34m)\u001b[0m\u001b[0;34m\u001b[0m\u001b[0m\n\u001b[0;32m----> 7\u001b[0;31m \u001b[0mplt\u001b[0m\u001b[0;34m.\u001b[0m\u001b[0msavefig\u001b[0m\u001b[0;34m(\u001b[0m\u001b[0;34m'Graphs/accEpochs.png'\u001b[0m\u001b[0;34m)\u001b[0m\u001b[0;34m\u001b[0m\u001b[0m\n\u001b[0m\u001b[1;32m      8\u001b[0m \u001b[0mplt\u001b[0m\u001b[0;34m.\u001b[0m\u001b[0msubplot\u001b[0m\u001b[0;34m(\u001b[0m\u001b[0;36m2\u001b[0m\u001b[0;34m,\u001b[0m\u001b[0;36m1\u001b[0m\u001b[0;34m,\u001b[0m\u001b[0;36m2\u001b[0m\u001b[0;34m)\u001b[0m\u001b[0;34m\u001b[0m\u001b[0m\n\u001b[1;32m      9\u001b[0m \u001b[0mplt\u001b[0m\u001b[0;34m.\u001b[0m\u001b[0mxlim\u001b[0m\u001b[0;34m(\u001b[0m\u001b[0;36m0\u001b[0m\u001b[0;34m,\u001b[0m\u001b[0;36m150\u001b[0m\u001b[0;34m)\u001b[0m\u001b[0;34m\u001b[0m\u001b[0m\n",
      "\u001b[0;32m/home/kartikmadhira/anaconda2/lib/python2.7/site-packages/matplotlib/pyplot.pyc\u001b[0m in \u001b[0;36msavefig\u001b[0;34m(*args, **kwargs)\u001b[0m\n\u001b[1;32m    693\u001b[0m \u001b[0;32mdef\u001b[0m \u001b[0msavefig\u001b[0m\u001b[0;34m(\u001b[0m\u001b[0;34m*\u001b[0m\u001b[0margs\u001b[0m\u001b[0;34m,\u001b[0m \u001b[0;34m**\u001b[0m\u001b[0mkwargs\u001b[0m\u001b[0;34m)\u001b[0m\u001b[0;34m:\u001b[0m\u001b[0;34m\u001b[0m\u001b[0m\n\u001b[1;32m    694\u001b[0m     \u001b[0mfig\u001b[0m \u001b[0;34m=\u001b[0m \u001b[0mgcf\u001b[0m\u001b[0;34m(\u001b[0m\u001b[0;34m)\u001b[0m\u001b[0;34m\u001b[0m\u001b[0m\n\u001b[0;32m--> 695\u001b[0;31m     \u001b[0mres\u001b[0m \u001b[0;34m=\u001b[0m \u001b[0mfig\u001b[0m\u001b[0;34m.\u001b[0m\u001b[0msavefig\u001b[0m\u001b[0;34m(\u001b[0m\u001b[0;34m*\u001b[0m\u001b[0margs\u001b[0m\u001b[0;34m,\u001b[0m \u001b[0;34m**\u001b[0m\u001b[0mkwargs\u001b[0m\u001b[0;34m)\u001b[0m\u001b[0;34m\u001b[0m\u001b[0m\n\u001b[0m\u001b[1;32m    696\u001b[0m     \u001b[0mfig\u001b[0m\u001b[0;34m.\u001b[0m\u001b[0mcanvas\u001b[0m\u001b[0;34m.\u001b[0m\u001b[0mdraw_idle\u001b[0m\u001b[0;34m(\u001b[0m\u001b[0;34m)\u001b[0m   \u001b[0;31m# need this if 'transparent=True' to reset colors\u001b[0m\u001b[0;34m\u001b[0m\u001b[0m\n\u001b[1;32m    697\u001b[0m     \u001b[0;32mreturn\u001b[0m \u001b[0mres\u001b[0m\u001b[0;34m\u001b[0m\u001b[0m\n",
      "\u001b[0;32m/home/kartikmadhira/anaconda2/lib/python2.7/site-packages/matplotlib/figure.pyc\u001b[0m in \u001b[0;36msavefig\u001b[0;34m(self, fname, **kwargs)\u001b[0m\n\u001b[1;32m   2060\u001b[0m             \u001b[0mself\u001b[0m\u001b[0;34m.\u001b[0m\u001b[0mset_frameon\u001b[0m\u001b[0;34m(\u001b[0m\u001b[0mframeon\u001b[0m\u001b[0;34m)\u001b[0m\u001b[0;34m\u001b[0m\u001b[0m\n\u001b[1;32m   2061\u001b[0m \u001b[0;34m\u001b[0m\u001b[0m\n\u001b[0;32m-> 2062\u001b[0;31m         \u001b[0mself\u001b[0m\u001b[0;34m.\u001b[0m\u001b[0mcanvas\u001b[0m\u001b[0;34m.\u001b[0m\u001b[0mprint_figure\u001b[0m\u001b[0;34m(\u001b[0m\u001b[0mfname\u001b[0m\u001b[0;34m,\u001b[0m \u001b[0;34m**\u001b[0m\u001b[0mkwargs\u001b[0m\u001b[0;34m)\u001b[0m\u001b[0;34m\u001b[0m\u001b[0m\n\u001b[0m\u001b[1;32m   2063\u001b[0m \u001b[0;34m\u001b[0m\u001b[0m\n\u001b[1;32m   2064\u001b[0m         \u001b[0;32mif\u001b[0m \u001b[0mframeon\u001b[0m\u001b[0;34m:\u001b[0m\u001b[0;34m\u001b[0m\u001b[0m\n",
      "\u001b[0;32m/home/kartikmadhira/anaconda2/lib/python2.7/site-packages/matplotlib/backend_bases.pyc\u001b[0m in \u001b[0;36mprint_figure\u001b[0;34m(self, filename, dpi, facecolor, edgecolor, orientation, format, **kwargs)\u001b[0m\n\u001b[1;32m   2261\u001b[0m                 \u001b[0morientation\u001b[0m\u001b[0;34m=\u001b[0m\u001b[0morientation\u001b[0m\u001b[0;34m,\u001b[0m\u001b[0;34m\u001b[0m\u001b[0m\n\u001b[1;32m   2262\u001b[0m                 \u001b[0mbbox_inches_restore\u001b[0m\u001b[0;34m=\u001b[0m\u001b[0m_bbox_inches_restore\u001b[0m\u001b[0;34m,\u001b[0m\u001b[0;34m\u001b[0m\u001b[0m\n\u001b[0;32m-> 2263\u001b[0;31m                 **kwargs)\n\u001b[0m\u001b[1;32m   2264\u001b[0m         \u001b[0;32mfinally\u001b[0m\u001b[0;34m:\u001b[0m\u001b[0;34m\u001b[0m\u001b[0m\n\u001b[1;32m   2265\u001b[0m             \u001b[0;32mif\u001b[0m \u001b[0mbbox_inches\u001b[0m \u001b[0;32mand\u001b[0m \u001b[0mrestore_bbox\u001b[0m\u001b[0;34m:\u001b[0m\u001b[0;34m\u001b[0m\u001b[0m\n",
      "\u001b[0;32m/home/kartikmadhira/anaconda2/lib/python2.7/site-packages/matplotlib/backends/backend_agg.pyc\u001b[0m in \u001b[0;36mprint_png\u001b[0;34m(self, filename_or_obj, *args, **kwargs)\u001b[0m\n\u001b[1;32m    528\u001b[0m \u001b[0;34m\u001b[0m\u001b[0m\n\u001b[1;32m    529\u001b[0m         \u001b[0;32mtry\u001b[0m\u001b[0;34m:\u001b[0m\u001b[0;34m\u001b[0m\u001b[0m\n\u001b[0;32m--> 530\u001b[0;31m             \u001b[0;32mwith\u001b[0m \u001b[0mcbook\u001b[0m\u001b[0;34m.\u001b[0m\u001b[0mopen_file_cm\u001b[0m\u001b[0;34m(\u001b[0m\u001b[0mfilename_or_obj\u001b[0m\u001b[0;34m,\u001b[0m \u001b[0;34m\"wb\"\u001b[0m\u001b[0;34m)\u001b[0m \u001b[0;32mas\u001b[0m \u001b[0mfh\u001b[0m\u001b[0;34m:\u001b[0m\u001b[0;34m\u001b[0m\u001b[0m\n\u001b[0m\u001b[1;32m    531\u001b[0m                 _png.write_png(renderer._renderer, fh,\n\u001b[1;32m    532\u001b[0m                                self.figure.dpi, metadata=metadata)\n",
      "\u001b[0;32m/home/kartikmadhira/anaconda2/lib/python2.7/contextlib.pyc\u001b[0m in \u001b[0;36m__enter__\u001b[0;34m(self)\u001b[0m\n\u001b[1;32m     15\u001b[0m     \u001b[0;32mdef\u001b[0m \u001b[0m__enter__\u001b[0m\u001b[0;34m(\u001b[0m\u001b[0mself\u001b[0m\u001b[0;34m)\u001b[0m\u001b[0;34m:\u001b[0m\u001b[0;34m\u001b[0m\u001b[0m\n\u001b[1;32m     16\u001b[0m         \u001b[0;32mtry\u001b[0m\u001b[0;34m:\u001b[0m\u001b[0;34m\u001b[0m\u001b[0m\n\u001b[0;32m---> 17\u001b[0;31m             \u001b[0;32mreturn\u001b[0m \u001b[0mself\u001b[0m\u001b[0;34m.\u001b[0m\u001b[0mgen\u001b[0m\u001b[0;34m.\u001b[0m\u001b[0mnext\u001b[0m\u001b[0;34m(\u001b[0m\u001b[0;34m)\u001b[0m\u001b[0;34m\u001b[0m\u001b[0m\n\u001b[0m\u001b[1;32m     18\u001b[0m         \u001b[0;32mexcept\u001b[0m \u001b[0mStopIteration\u001b[0m\u001b[0;34m:\u001b[0m\u001b[0;34m\u001b[0m\u001b[0m\n\u001b[1;32m     19\u001b[0m             \u001b[0;32mraise\u001b[0m \u001b[0mRuntimeError\u001b[0m\u001b[0;34m(\u001b[0m\u001b[0;34m\"generator didn't yield\"\u001b[0m\u001b[0;34m)\u001b[0m\u001b[0;34m\u001b[0m\u001b[0m\n",
      "\u001b[0;32m/home/kartikmadhira/anaconda2/lib/python2.7/site-packages/matplotlib/cbook/__init__.pyc\u001b[0m in \u001b[0;36mopen_file_cm\u001b[0;34m(path_or_file, mode, encoding)\u001b[0m\n\u001b[1;32m    624\u001b[0m \u001b[0;32mdef\u001b[0m \u001b[0mopen_file_cm\u001b[0m\u001b[0;34m(\u001b[0m\u001b[0mpath_or_file\u001b[0m\u001b[0;34m,\u001b[0m \u001b[0mmode\u001b[0m\u001b[0;34m=\u001b[0m\u001b[0;34m\"r\"\u001b[0m\u001b[0;34m,\u001b[0m \u001b[0mencoding\u001b[0m\u001b[0;34m=\u001b[0m\u001b[0mNone\u001b[0m\u001b[0;34m)\u001b[0m\u001b[0;34m:\u001b[0m\u001b[0;34m\u001b[0m\u001b[0m\n\u001b[1;32m    625\u001b[0m     \u001b[0;34mr\"\"\"Pass through file objects and context-manage `.PathLike`\\s.\"\"\"\u001b[0m\u001b[0;34m\u001b[0m\u001b[0m\n\u001b[0;32m--> 626\u001b[0;31m     \u001b[0mfh\u001b[0m\u001b[0;34m,\u001b[0m \u001b[0mopened\u001b[0m \u001b[0;34m=\u001b[0m \u001b[0mto_filehandle\u001b[0m\u001b[0;34m(\u001b[0m\u001b[0mpath_or_file\u001b[0m\u001b[0;34m,\u001b[0m \u001b[0mmode\u001b[0m\u001b[0;34m,\u001b[0m \u001b[0mTrue\u001b[0m\u001b[0;34m,\u001b[0m \u001b[0mencoding\u001b[0m\u001b[0;34m)\u001b[0m\u001b[0;34m\u001b[0m\u001b[0m\n\u001b[0m\u001b[1;32m    627\u001b[0m     \u001b[0;32mif\u001b[0m \u001b[0mopened\u001b[0m\u001b[0;34m:\u001b[0m\u001b[0;34m\u001b[0m\u001b[0m\n\u001b[1;32m    628\u001b[0m         \u001b[0;32mwith\u001b[0m \u001b[0mfh\u001b[0m\u001b[0;34m:\u001b[0m\u001b[0;34m\u001b[0m\u001b[0m\n",
      "\u001b[0;32m/home/kartikmadhira/anaconda2/lib/python2.7/site-packages/matplotlib/cbook/__init__.pyc\u001b[0m in \u001b[0;36mto_filehandle\u001b[0;34m(fname, flag, return_opened, encoding)\u001b[0m\n\u001b[1;32m    609\u001b[0m             \u001b[0mfh\u001b[0m \u001b[0;34m=\u001b[0m \u001b[0mbz2\u001b[0m\u001b[0;34m.\u001b[0m\u001b[0mBZ2File\u001b[0m\u001b[0;34m(\u001b[0m\u001b[0mfname\u001b[0m\u001b[0;34m,\u001b[0m \u001b[0mflag\u001b[0m\u001b[0;34m)\u001b[0m\u001b[0;34m\u001b[0m\u001b[0m\n\u001b[1;32m    610\u001b[0m         \u001b[0;32melse\u001b[0m\u001b[0;34m:\u001b[0m\u001b[0;34m\u001b[0m\u001b[0m\n\u001b[0;32m--> 611\u001b[0;31m             \u001b[0mfh\u001b[0m \u001b[0;34m=\u001b[0m \u001b[0mio\u001b[0m\u001b[0;34m.\u001b[0m\u001b[0mopen\u001b[0m\u001b[0;34m(\u001b[0m\u001b[0mfname\u001b[0m\u001b[0;34m,\u001b[0m \u001b[0mflag\u001b[0m\u001b[0;34m,\u001b[0m \u001b[0mencoding\u001b[0m\u001b[0;34m=\u001b[0m\u001b[0mencoding\u001b[0m\u001b[0;34m)\u001b[0m\u001b[0;34m\u001b[0m\u001b[0m\n\u001b[0m\u001b[1;32m    612\u001b[0m         \u001b[0mopened\u001b[0m \u001b[0;34m=\u001b[0m \u001b[0mTrue\u001b[0m\u001b[0;34m\u001b[0m\u001b[0m\n\u001b[1;32m    613\u001b[0m     \u001b[0;32melif\u001b[0m \u001b[0mhasattr\u001b[0m\u001b[0;34m(\u001b[0m\u001b[0mfname\u001b[0m\u001b[0;34m,\u001b[0m \u001b[0;34m'seek'\u001b[0m\u001b[0;34m)\u001b[0m\u001b[0;34m:\u001b[0m\u001b[0;34m\u001b[0m\u001b[0m\n",
      "\u001b[0;31mIOError\u001b[0m: [Errno 2] No such file or directory: 'Graphs/accEpochs.png'"
     ]
    },
    {
     "data": {
      "image/png": "[encoded data removed]",
      "text/plain": [
       "<Figure size 432x288 with 1 Axes>"
      ]
     },
     "metadata": {
      "needs_background": "light"
     },
     "output_type": "display_data"
    }
   ],
   "source": [
    "\n"
   ]
  },
  {
   "cell_type": "code",
   "execution_count": 43,
   "metadata": {},
   "outputs": [],
   "source": [
    "import cv2\n",
    "import numpy as np"
   ]
  },
  {
   "cell_type": "code",
   "execution_count": 95,
   "metadata": {},
   "outputs": [
    {
     "data": {
      "text/plain": [
       "<matplotlib.image.AxesImage at 0x7fe810114850>"
      ]
     },
     "execution_count": 95,
     "metadata": {},
     "output_type": "execute_result"
    },
    {
     "data": {
      "image/png": "[encoded data removed]",
      "text/plain": [
       "<Figure size 432x288 with 1 Axes>"
      ]
     },
     "metadata": {
      "needs_background": "light"
     },
     "output_type": "display_data"
    }
   ],
   "source": [
    "import cv2\n",
    "import numpy as np\n",
    "\n",
    "img=np.random.normal(size=(16,16),scale=1)\n",
    "border = cv2.borderInterpolate(0, 1, cv2.BORDER_CONSTANT)\n",
    "sobelx64f = cv2.Sobel(img,cv2.CV_64F,1,0,ksize=5, borderType=border)\n",
    "sobely64f = cv2.Sobel(img,cv2.CV_64F,0,1,ksize=5, borderType=border)\n",
    "g=sobelx64f+sobely64f\n",
    "\n",
    "plt.imshow(sobely64f,cmap='binary')"
   ]
  },
  {
   "cell_type": "code",
   "execution_count": 86,
   "metadata": {},
   "outputs": [
    {
     "data": {
      "text/plain": [
       "array([[ 2.53780756, -1.75893478, -4.84800226],\n",
       "       [-1.50678561,  0.81498862, -0.78014686],\n",
       "       [-6.18159148, -7.02648678, -2.65665598]])"
      ]
     },
     "execution_count": 86,
     "metadata": {},
     "output_type": "execute_result"
    }
   ],
   "source": [
    "a=np.random.normal(size=(3,3),scale=4)"
   ]
  },
  {
   "cell_type": "code",
   "execution_count": 6,
   "metadata": {},
   "outputs": [],
   "source": [
    "import numpy as np\n",
    "import scipy.stats as st\n",
    "import skimage.transform\n",
    "\n",
    "def gkern(kernlen, nsig):\n",
    "    \"\"\"Returns a 2D Gaussian kernel array.\"\"\"\n",
    "\n",
    "    interval = (2*nsig+1.)/(kernlen)\n",
    "    x = np.linspace(-nsig-interval/2., nsig+interval/2., kernlen+1)\n",
    "    kern1d = np.diff(st.norm.cdf(x))\n",
    "    kernel_raw = np.sqrt(np.outer(kern1d, kern1d))\n",
    "    kernel = kernel_raw/kernel_raw.sum()\n",
    "    return kernel"
   ]
  },
  {
   "cell_type": "code",
   "execution_count": 2,
   "metadata": {},
   "outputs": [
    {
     "ename": "NameError",
     "evalue": "name 'gkern' is not defined",
     "output_type": "error",
     "traceback": [
      "\u001b[0;31m---------------------------------------------------------------------------\u001b[0m",
      "\u001b[0;31mNameError\u001b[0m                                 Traceback (most recent call last)",
      "\u001b[0;32m<ipython-input-2-6a65cbfc7146>\u001b[0m in \u001b[0;36m<module>\u001b[0;34m()\u001b[0m\n\u001b[1;32m      2\u001b[0m \u001b[0;32mimport\u001b[0m \u001b[0mcv2\u001b[0m\u001b[0;34m\u001b[0m\u001b[0m\n\u001b[1;32m      3\u001b[0m \u001b[0;32mimport\u001b[0m \u001b[0mnumpy\u001b[0m \u001b[0;32mas\u001b[0m \u001b[0mnp\u001b[0m\u001b[0;34m\u001b[0m\u001b[0m\n\u001b[0;32m----> 4\u001b[0;31m \u001b[0mkernel\u001b[0m\u001b[0;34m=\u001b[0m\u001b[0mgkern\u001b[0m\u001b[0;34m(\u001b[0m\u001b[0;36m21\u001b[0m\u001b[0;34m,\u001b[0m\u001b[0;36m7\u001b[0m\u001b[0;34m)\u001b[0m\u001b[0;34m\u001b[0m\u001b[0m\n\u001b[0m\u001b[1;32m      5\u001b[0m \u001b[0mborder\u001b[0m \u001b[0;34m=\u001b[0m \u001b[0mcv2\u001b[0m\u001b[0;34m.\u001b[0m\u001b[0mborderInterpolate\u001b[0m\u001b[0;34m(\u001b[0m\u001b[0;36m0\u001b[0m\u001b[0;34m,\u001b[0m \u001b[0;36m1\u001b[0m\u001b[0;34m,\u001b[0m \u001b[0mcv2\u001b[0m\u001b[0;34m.\u001b[0m\u001b[0mBORDER_CONSTANT\u001b[0m\u001b[0;34m)\u001b[0m\u001b[0;34m\u001b[0m\u001b[0m\n\u001b[1;32m      6\u001b[0m \u001b[0msobelx64f\u001b[0m \u001b[0;34m=\u001b[0m \u001b[0mcv2\u001b[0m\u001b[0;34m.\u001b[0m\u001b[0mSobel\u001b[0m\u001b[0;34m(\u001b[0m\u001b[0mkernel\u001b[0m\u001b[0;34m,\u001b[0m\u001b[0mcv2\u001b[0m\u001b[0;34m.\u001b[0m\u001b[0mCV_64F\u001b[0m\u001b[0;34m,\u001b[0m\u001b[0;36m1\u001b[0m\u001b[0;34m,\u001b[0m\u001b[0;36m0\u001b[0m\u001b[0;34m,\u001b[0m\u001b[0mksize\u001b[0m\u001b[0;34m=\u001b[0m\u001b[0;36m5\u001b[0m\u001b[0;34m,\u001b[0m \u001b[0mborderType\u001b[0m\u001b[0;34m=\u001b[0m\u001b[0mborder\u001b[0m\u001b[0;34m)\u001b[0m\u001b[0;34m\u001b[0m\u001b[0m\n",
      "\u001b[0;31mNameError\u001b[0m: name 'gkern' is not defined"
     ]
    }
   ],
   "source": [
    "import matplotlib.pyplot as plt\n",
    "import cv2\n",
    "import numpy as np\n",
    "kernel=gkern(21,7)\n",
    "border = cv2.borderInterpolate(0, 1, cv2.BORDER_CONSTANT)\n",
    "sobelx64f = cv2.Sobel(kernel,cv2.CV_64F,1,0,ksize=5, borderType=border)\n",
    "sobely64f = cv2.Sobel(kernel,cv2.CV_64F,0,1,ksize=5, borderType=border)\n",
    "theta = np.radians(45)\n",
    "c, s = np.cos(theta), np.sin(theta)\n",
    "R = np.array(((c,-s), (s, c)))\n",
    "final=skimage.transform.rotate(sobelx64f, 45)\n",
    "plt.imshow(final,cmap='binary')\n",
    "\n",
    "\n"
   ]
  },
  {
   "cell_type": "code",
   "execution_count": 9,
   "metadata": {},
   "outputs": [
    {
     "data": {
      "text/plain": [
       "array([[1.90883737e-12, 1.82981182e-11, 1.37872710e-10, 8.17079678e-10,\n",
       "        3.81127013e-09, 1.40028539e-08, 4.05538096e-08, 9.26464128e-08,\n",
       "        1.67065278e-07, 2.37916984e-07, 2.67663272e-07, 2.37916984e-07,\n",
       "        1.67065278e-07, 9.26464128e-08, 4.05538096e-08, 1.40028539e-08,\n",
       "        3.81127013e-09, 8.17079678e-10, 1.37872710e-10, 1.82981185e-11,\n",
       "        1.90883571e-12],\n",
       "       [1.82981182e-11, 1.75405792e-10, 1.32164803e-09, 7.83252717e-09,\n",
       "        3.65348419e-08, 1.34231381e-07, 3.88748888e-07, 8.88108669e-07,\n",
       "        1.60148804e-06, 2.28067261e-06, 2.56582057e-06, 2.28067261e-06,\n",
       "        1.60148804e-06, 8.88108669e-07, 3.88748888e-07, 1.34231381e-07,\n",
       "        3.65348419e-08, 7.83252717e-09, 1.32164803e-09, 1.75405795e-10,\n",
       "        1.82981024e-11],\n",
       "       [1.37872710e-10, 1.32164803e-09, 9.95835712e-09, 5.90165466e-08,\n",
       "        2.75282824e-07, 1.01140697e-06, 2.92914616e-06, 6.69172357e-06,\n",
       "        1.20668964e-05, 1.71844180e-05, 1.93329517e-05, 1.71844180e-05,\n",
       "        1.20668964e-05, 6.69172357e-06, 2.92914616e-06, 1.01140697e-06,\n",
       "        2.75282824e-07, 5.90165467e-08, 9.95835712e-09, 1.32164805e-09,\n",
       "        1.37872591e-10],\n",
       "       [8.17079678e-10, 7.83252717e-09, 5.90165466e-08, 3.49751745e-07,\n",
       "        1.63141786e-06, 5.99393510e-06, 1.73590974e-05, 3.96573864e-05,\n",
       "        7.15124536e-05, 1.01840594e-04, 1.14573522e-04, 1.01840594e-04,\n",
       "        7.15124536e-05, 3.96573864e-05, 1.73590974e-05, 5.99393510e-06,\n",
       "        1.63141786e-06, 3.49751745e-07, 5.90165466e-08, 7.83252730e-09,\n",
       "        8.17078970e-10],\n",
       "       [3.81127013e-09, 3.65348419e-08, 2.75282824e-07, 1.63141786e-06,\n",
       "        7.60975253e-06, 2.79587248e-05, 8.09715515e-05, 1.84981975e-04,\n",
       "        3.33570013e-04, 4.75035698e-04, 5.34428468e-04, 4.75035698e-04,\n",
       "        3.33570013e-04, 1.84981975e-04, 8.09715515e-05, 2.79587248e-05,\n",
       "        7.60975253e-06, 1.63141786e-06, 2.75282824e-07, 3.65348425e-08,\n",
       "        3.81126683e-09],\n",
       "       [1.40028539e-08, 1.34231381e-07, 1.01140697e-06, 5.99393510e-06,\n",
       "        2.79587248e-05, 1.02722170e-04, 2.97494736e-04, 6.79635782e-04,\n",
       "        1.22555788e-03, 1.74531199e-03, 1.96352488e-03, 1.74531199e-03,\n",
       "        1.22555788e-03, 6.79635782e-04, 2.97494736e-04, 1.02722170e-04,\n",
       "        2.79587248e-05, 5.99393511e-06, 1.01140697e-06, 1.34231383e-07,\n",
       "        1.40028417e-08],\n",
       "       [4.05538096e-08, 3.88748888e-07, 2.92914616e-06, 1.73590974e-05,\n",
       "        8.09715515e-05, 2.97494736e-04, 8.61577578e-04, 1.96830021e-03,\n",
       "        3.54935083e-03, 5.05461608e-03, 5.68658469e-03, 5.05461608e-03,\n",
       "        3.54935083e-03, 1.96830021e-03, 8.61577578e-04, 2.97494736e-04,\n",
       "        8.09715515e-05, 1.73590974e-05, 2.92914616e-06, 3.88748894e-07,\n",
       "        4.05537745e-08],\n",
       "       [9.26464128e-08, 8.88108669e-07, 6.69172357e-06, 3.96573864e-05,\n",
       "        1.84981975e-04, 6.79635782e-04, 1.96830021e-03, 4.49664175e-03,\n",
       "        8.10860003e-03, 1.15474243e-02, 1.29911759e-02, 1.15474243e-02,\n",
       "        8.10860003e-03, 4.49664175e-03, 1.96830021e-03, 6.79635782e-04,\n",
       "        1.84981975e-04, 3.96573864e-05, 6.69172357e-06, 8.88108683e-07,\n",
       "        9.26463325e-08],\n",
       "       [1.67065278e-07, 1.60148804e-06, 1.20668964e-05, 7.15124536e-05,\n",
       "        3.33570013e-04, 1.22555788e-03, 3.54935083e-03, 8.10860003e-03,\n",
       "        1.46218885e-02, 2.08229720e-02, 2.34264268e-02, 2.08229720e-02,\n",
       "        1.46218885e-02, 8.10860003e-03, 3.54935083e-03, 1.22555788e-03,\n",
       "        3.33570013e-04, 7.15124536e-05, 1.20668964e-05, 1.60148807e-06,\n",
       "        1.67065134e-07],\n",
       "       [2.37916984e-07, 2.28067261e-06, 1.71844180e-05, 1.01840594e-04,\n",
       "        4.75035698e-04, 1.74531199e-03, 5.05461608e-03, 1.15474243e-02,\n",
       "        2.08229720e-02, 2.96539098e-02, 3.33614792e-02, 2.96539098e-02,\n",
       "        2.08229720e-02, 1.15474243e-02, 5.05461608e-03, 1.74531199e-03,\n",
       "        4.75035698e-04, 1.01840594e-04, 1.71844180e-05, 2.28067264e-06,\n",
       "        2.37916777e-07],\n",
       "       [2.67663272e-07, 2.56582057e-06, 1.93329517e-05, 1.14573522e-04,\n",
       "        5.34428468e-04, 1.96352488e-03, 5.68658469e-03, 1.29911759e-02,\n",
       "        2.34264268e-02, 3.33614792e-02, 3.75325987e-02, 3.33614792e-02,\n",
       "        2.34264268e-02, 1.29911759e-02, 5.68658469e-03, 1.96352488e-03,\n",
       "        5.34428468e-04, 1.14573522e-04, 1.93329517e-05, 2.56582061e-06,\n",
       "        2.67663039e-07],\n",
       "       [2.37916984e-07, 2.28067261e-06, 1.71844180e-05, 1.01840594e-04,\n",
       "        4.75035698e-04, 1.74531199e-03, 5.05461608e-03, 1.15474243e-02,\n",
       "        2.08229720e-02, 2.96539098e-02, 3.33614792e-02, 2.96539098e-02,\n",
       "        2.08229720e-02, 1.15474243e-02, 5.05461608e-03, 1.74531199e-03,\n",
       "        4.75035698e-04, 1.01840594e-04, 1.71844180e-05, 2.28067264e-06,\n",
       "        2.37916777e-07],\n",
       "       [1.67065278e-07, 1.60148804e-06, 1.20668964e-05, 7.15124536e-05,\n",
       "        3.33570013e-04, 1.22555788e-03, 3.54935083e-03, 8.10860003e-03,\n",
       "        1.46218885e-02, 2.08229720e-02, 2.34264268e-02, 2.08229720e-02,\n",
       "        1.46218885e-02, 8.10860003e-03, 3.54935083e-03, 1.22555788e-03,\n",
       "        3.33570013e-04, 7.15124536e-05, 1.20668964e-05, 1.60148807e-06,\n",
       "        1.67065134e-07],\n",
       "       [9.26464128e-08, 8.88108669e-07, 6.69172357e-06, 3.96573864e-05,\n",
       "        1.84981975e-04, 6.79635782e-04, 1.96830021e-03, 4.49664175e-03,\n",
       "        8.10860003e-03, 1.15474243e-02, 1.29911759e-02, 1.15474243e-02,\n",
       "        8.10860003e-03, 4.49664175e-03, 1.96830021e-03, 6.79635782e-04,\n",
       "        1.84981975e-04, 3.96573864e-05, 6.69172357e-06, 8.88108683e-07,\n",
       "        9.26463325e-08],\n",
       "       [4.05538096e-08, 3.88748888e-07, 2.92914616e-06, 1.73590974e-05,\n",
       "        8.09715515e-05, 2.97494736e-04, 8.61577578e-04, 1.96830021e-03,\n",
       "        3.54935083e-03, 5.05461608e-03, 5.68658469e-03, 5.05461608e-03,\n",
       "        3.54935083e-03, 1.96830021e-03, 8.61577578e-04, 2.97494736e-04,\n",
       "        8.09715515e-05, 1.73590974e-05, 2.92914616e-06, 3.88748894e-07,\n",
       "        4.05537745e-08],\n",
       "       [1.40028539e-08, 1.34231381e-07, 1.01140697e-06, 5.99393510e-06,\n",
       "        2.79587248e-05, 1.02722170e-04, 2.97494736e-04, 6.79635782e-04,\n",
       "        1.22555788e-03, 1.74531199e-03, 1.96352488e-03, 1.74531199e-03,\n",
       "        1.22555788e-03, 6.79635782e-04, 2.97494736e-04, 1.02722170e-04,\n",
       "        2.79587248e-05, 5.99393511e-06, 1.01140697e-06, 1.34231383e-07,\n",
       "        1.40028417e-08],\n",
       "       [3.81127013e-09, 3.65348419e-08, 2.75282824e-07, 1.63141786e-06,\n",
       "        7.60975253e-06, 2.79587248e-05, 8.09715515e-05, 1.84981975e-04,\n",
       "        3.33570013e-04, 4.75035698e-04, 5.34428468e-04, 4.75035698e-04,\n",
       "        3.33570013e-04, 1.84981975e-04, 8.09715515e-05, 2.79587248e-05,\n",
       "        7.60975253e-06, 1.63141786e-06, 2.75282824e-07, 3.65348425e-08,\n",
       "        3.81126683e-09],\n",
       "       [8.17079678e-10, 7.83252717e-09, 5.90165467e-08, 3.49751745e-07,\n",
       "        1.63141786e-06, 5.99393511e-06, 1.73590974e-05, 3.96573864e-05,\n",
       "        7.15124536e-05, 1.01840594e-04, 1.14573522e-04, 1.01840594e-04,\n",
       "        7.15124536e-05, 3.96573864e-05, 1.73590974e-05, 5.99393511e-06,\n",
       "        1.63141786e-06, 3.49751745e-07, 5.90165466e-08, 7.83252730e-09,\n",
       "        8.17078970e-10],\n",
       "       [1.37872710e-10, 1.32164803e-09, 9.95835712e-09, 5.90165466e-08,\n",
       "        2.75282824e-07, 1.01140697e-06, 2.92914616e-06, 6.69172357e-06,\n",
       "        1.20668964e-05, 1.71844180e-05, 1.93329517e-05, 1.71844180e-05,\n",
       "        1.20668964e-05, 6.69172357e-06, 2.92914616e-06, 1.01140697e-06,\n",
       "        2.75282824e-07, 5.90165466e-08, 9.95835712e-09, 1.32164805e-09,\n",
       "        1.37872591e-10],\n",
       "       [1.82981185e-11, 1.75405795e-10, 1.32164805e-09, 7.83252730e-09,\n",
       "        3.65348425e-08, 1.34231383e-07, 3.88748894e-07, 8.88108683e-07,\n",
       "        1.60148807e-06, 2.28067264e-06, 2.56582061e-06, 2.28067264e-06,\n",
       "        1.60148807e-06, 8.88108683e-07, 3.88748894e-07, 1.34231383e-07,\n",
       "        3.65348425e-08, 7.83252730e-09, 1.32164805e-09, 1.75405798e-10,\n",
       "        1.82981027e-11],\n",
       "       [1.90883571e-12, 1.82981024e-11, 1.37872591e-10, 8.17078970e-10,\n",
       "        3.81126683e-09, 1.40028417e-08, 4.05537745e-08, 9.26463325e-08,\n",
       "        1.67065134e-07, 2.37916777e-07, 2.67663039e-07, 2.37916777e-07,\n",
       "        1.67065134e-07, 9.26463325e-08, 4.05537745e-08, 1.40028417e-08,\n",
       "        3.81126683e-09, 8.17078970e-10, 1.37872591e-10, 1.82981027e-11,\n",
       "        1.90883406e-12]])"
      ]
     },
     "execution_count": 9,
     "metadata": {},
     "output_type": "execute_result"
    }
   ],
   "source": [
    "kernel"
   ]
  },
  {
   "cell_type": "code",
   "execution_count": 10,
   "metadata": {},
   "outputs": [
    {
     "data": {
      "text/plain": [
       "-1.5"
      ]
     },
     "execution_count": 10,
     "metadata": {},
     "output_type": "execute_result"
    }
   ],
   "source": [
    "nsig=1\n",
    "kernlen=3\n",
    "interval = (2*nsig+1.)/(kernlen)\n",
    "x = np.linspace(-nsig-interval/2., nsig+interval/2., kernlen+1)\n",
    "kern1d = np.diff(st.norm.cdf(x))\n",
    "kernel_raw = np.sqrt(np.outer(kern1d, kern1d))\n",
    "kernel = kernel_raw/kernel_raw.sum()\n",
    "-nsig-interval/2."
   ]
  },
  {
   "cell_type": "code",
   "execution_count": 38,
   "metadata": {},
   "outputs": [
    {
     "data": {
      "text/plain": [
       "array([0.0668072 , 0.30853754, 0.69146246, 0.9331928 ])"
      ]
     },
     "execution_count": 38,
     "metadata": {},
     "output_type": "execute_result"
    }
   ],
   "source": [
    "st.norm.cdf(x)"
   ]
  },
  {
   "cell_type": "code",
   "execution_count": 39,
   "metadata": {},
   "outputs": [
    {
     "data": {
      "text/plain": [
       "array([0.24173034, 0.38292492, 0.24173034])"
      ]
     },
     "execution_count": 39,
     "metadata": {},
     "output_type": "execute_result"
    }
   ],
   "source": [
    "np.diff(st.norm.cdf(x))"
   ]
  },
  {
   "cell_type": "code",
   "execution_count": 41,
   "metadata": {},
   "outputs": [
    {
     "data": {
      "text/plain": [
       "array([0.1295176 , 0.39894228, 0.1295176 ])"
      ]
     },
     "execution_count": 41,
     "metadata": {},
     "output_type": "execute_result"
    }
   ],
   "source": [
    "x1 = np.linspace(-nsig-interval/2., nsig+interval/2., kernlen)\n",
    "st.norm.pdf(x1)"
   ]
  },
  {
   "cell_type": "code",
   "execution_count": null,
   "metadata": {},
   "outputs": [],
   "source": [
    "def DoG(scales,orient,size):\n",
    "    scales=range(1,scales+1)\n",
    "    orient=np.lins\n",
    "    for each in scales:\n",
    "        kernel=gkern(size,each)\n",
    "        border = cv2.borderInterpolate(0, 1, cv2.BORDER_CONSTANT)\n",
    "        sobelx64f = cv2.Sobel(kernel,cv2.CV_64F,1,0,ksize=3, borderType=border)\n",
    "        skima\n",
    "    "
   ]
  },
  {
   "cell_type": "code",
   "execution_count": 59,
   "metadata": {},
   "outputs": [
    {
     "data": {
      "text/plain": [
       "[1, 2, 3]"
      ]
     },
     "execution_count": 59,
     "metadata": {},
     "output_type": "execute_result"
    }
   ],
   "source": [
    "a=range(1,4)\n",
    "a"
   ]
  },
  {
   "cell_type": "code",
   "execution_count": 1,
   "metadata": {},
   "outputs": [],
   "source": []
  },
  {
   "cell_type": "code",
   "execution_count": null,
   "metadata": {},
   "outputs": [],
   "source": []
  }
 ],
 "metadata": {
  "kernelspec": {
   "display_name": "Python 2",
   "language": "python",
   "name": "python2"
  },
  "language_info": {
   "codemirror_mode": {
    "name": "ipython",
    "version": 2
   },
   "file_extension": ".py",
   "mimetype": "text/x-python",
   "name": "python",
   "nbconvert_exporter": "python",
   "pygments_lexer": "ipython2",
   "version": "2.7.12"
  }
 },
 "nbformat": 4,
 "nbformat_minor": 2
}
