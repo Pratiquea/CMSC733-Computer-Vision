{
 "cells": [
  {
   "cell_type": "code",
   "execution_count": null,
   "metadata": {},
   "outputs": [],
   "source": []
  },
  {
   "cell_type": "code",
   "execution_count": null,
   "metadata": {},
   "outputs": [],
   "source": []
  },
  {
   "cell_type": "code",
   "execution_count": null,
   "metadata": {},
   "outputs": [],
   "source": []
  },
  {
   "cell_type": "code",
   "execution_count": null,
   "metadata": {},
   "outputs": [],
   "source": []
  },
  {
   "cell_type": "code",
   "execution_count": null,
   "metadata": {},
   "outputs": [],
   "source": []
  },
  {
   "cell_type": "code",
   "execution_count": null,
   "metadata": {},
   "outputs": [],
   "source": []
  },
  {
   "cell_type": "code",
   "execution_count": null,
   "metadata": {},
   "outputs": [],
   "source": []
  },
  {
   "cell_type": "code",
   "execution_count": null,
   "metadata": {},
   "outputs": [],
   "source": []
  },
  {
   "cell_type": "code",
   "execution_count": null,
   "metadata": {},
   "outputs": [],
   "source": []
  },
  {
   "cell_type": "code",
   "execution_count": null,
   "metadata": {},
   "outputs": [],
   "source": [
    "\n"
   ]
  },
  {
   "cell_type": "code",
   "execution_count": null,
   "metadata": {},
   "outputs": [],
   "source": []
  },
  {
   "cell_type": "code",
   "execution_count": 1,
   "metadata": {},
   "outputs": [],
   "source": [
    "# import cv2\n",
    "# import numpy as np\n",
    "# import matplotlib.pyplot as plt\n",
    "# import cv2\n",
    "# import numpy as np\n",
    "# img=np.random.normal(size=(16,16),scale=1)\n",
    "# border = cv2.borderInterpolate(0, 1, cv2.BORDER_CONSTANT)\n",
    "# sobelx64f = cv2.Sobel(img,cv2.CV_64F,1,0,ksize=5, borderType=border)\n",
    "# sobely64f = cv2.Sobel(img,cv2.CV_64F,0,1,ksize=5, borderType=border)\n",
    "# g=sobelx64f+sobely64f\n",
    "# plt.imshow(sobely64f,cmap='binary')"
   ]
  },
  {
   "cell_type": "code",
   "execution_count": 2,
   "metadata": {},
   "outputs": [],
   "source": [
    "# a=np.random.normal(size=(3,3),scale=4)"
   ]
  },
  {
   "cell_type": "code",
   "execution_count": 3,
   "metadata": {},
   "outputs": [],
   "source": [
    "# import numpy as np\n",
    "# import scipy.stats as st\n",
    "# import skimage.transform\n",
    "\n",
    "# def gkern(kernlen, nsig):\n",
    "#     \"\"\"Returns a 2D Gaussian kernel array.\"\"\"\n",
    "\n",
    "#     interval = (2*nsig+1.)/(kernlen)\n",
    "#     x = np.linspace(-nsig-interval/2., nsig+interval/2., kernlen+1)\n",
    "#     kern1d = np.diff(st.norm.cdf(x))\n",
    "#     kernel_raw = np.sqrt(np.outer(kern1d, kern1d))\n",
    "#     kernel = kernel_raw/kernel_raw.sum()\n",
    "#     return kernel"
   ]
  },
  {
   "cell_type": "code",
   "execution_count": 4,
   "metadata": {},
   "outputs": [],
   "source": [
    "# kernel=gkern(21,7)\n",
    "# border = cv2.borderInterpolate(0, 1, cv2.BORDER_CONSTANT)\n",
    "# sobelx64f = cv2.Sobel(kernel,cv2.CV_64F,1,0,ksize=5, borderType=border)\n",
    "# sobely64f = cv2.Sobel(kernel,cv2.CV_64F,0,1,ksize=5, borderType=border)\n",
    "# # theta = np.radians(45)\n",
    "# # c, s = np.cos(theta), np.sin(theta)\n",
    "# # R = np.array(((c,-s), (s, c)))\n",
    "# final=skimage.transform.rotate(sobelx64f,90)\n",
    "# plt.imshow(final,cmap='binary')\n"
   ]
  },
  {
   "cell_type": "code",
   "execution_count": 5,
   "metadata": {},
   "outputs": [],
   "source": [
    "# plt.imshow(sobelx64f,cmap='binary')"
   ]
  },
  {
   "cell_type": "code",
   "execution_count": 6,
   "metadata": {},
   "outputs": [
    {
     "ename": "NameError",
     "evalue": "name 'kernel' is not defined",
     "output_type": "error",
     "traceback": [
      "\u001b[0;31m---------------------------------------------------------------------------\u001b[0m",
      "\u001b[0;31mNameError\u001b[0m                                 Traceback (most recent call last)",
      "\u001b[0;32m<ipython-input-6-c1fdb5347443>\u001b[0m in \u001b[0;36m<module>\u001b[0;34m()\u001b[0m\n\u001b[0;32m----> 1\u001b[0;31m \u001b[0mkernel\u001b[0m\u001b[0;34m\u001b[0m\u001b[0m\n\u001b[0m",
      "\u001b[0;31mNameError\u001b[0m: name 'kernel' is not defined"
     ]
    }
   ],
   "source": [
    "kernel"
   ]
  },
  {
   "cell_type": "code",
   "execution_count": null,
   "metadata": {},
   "outputs": [],
   "source": [
    "# nsig=1\n",
    "# kernlen=3\n",
    "# interval = (2*nsig+1.)/(kernlen)\n",
    "# x = np.linspace(-nsig-interval/2., nsig+interval/2., kernlen)\n",
    "# kern1d = st.norm.pdf(x)\n",
    "# kernel_raw = np.sqrt(np.outer(kern1d, kern1d))\n",
    "# kernel = kernel_raw/kernel_raw.sum()\n",
    "# kernel.size"
   ]
  },
  {
   "cell_type": "code",
   "execution_count": null,
   "metadata": {},
   "outputs": [],
   "source": [
    "# x"
   ]
  },
  {
   "cell_type": "code",
   "execution_count": null,
   "metadata": {},
   "outputs": [],
   "source": [
    "# plt.imshow(kernel,cmap='binary')"
   ]
  },
  {
   "cell_type": "code",
   "execution_count": null,
   "metadata": {},
   "outputs": [],
   "source": [
    "# np.diff(st.norm.cdf(x))"
   ]
  },
  {
   "cell_type": "markdown",
   "metadata": {},
   "source": [
    "np.outer(kern1d, kern1d)"
   ]
  },
  {
   "cell_type": "code",
   "execution_count": null,
   "metadata": {},
   "outputs": [],
   "source": [
    "# np.outer(kern1d, kern1d)"
   ]
  },
  {
   "cell_type": "code",
   "execution_count": null,
   "metadata": {},
   "outputs": [],
   "source": [
    "# x1 = np.linspace(-nsig-interval/2., nsig+interval/2., kernlen)\n",
    "# st.norm.pdf(x1)"
   ]
  },
  {
   "cell_type": "code",
   "execution_count": null,
   "metadata": {},
   "outputs": [],
   "source": [
    "# import numpy as np\n",
    "# import scipy.stats as st\n",
    "# import skimage.transform\n",
    "# import cv2\n",
    "# import matplotlib.pyplot as plt\n",
    "# def gkern(kernlen, nsig):\n",
    "#     \"\"\"Returns a 2D Gaussian kernel array.\"\"\"\n",
    "\n",
    "#     interval = (2*nsig+1.)/(kernlen)\n",
    "#     x = np.linspace(-nsig-interval/2., nsig+interval/2., kernlen+1)\n",
    "#     kern1d = np.diff(st.norm.cdf(x))\n",
    "#     kernel_raw = np.sqrt(np.outer(kern1d, kern1d))\n",
    "#     kernel = kernel_raw/kernel_raw.sum()\n",
    "#     return kernel"
   ]
  },
  {
   "cell_type": "code",
   "execution_count": null,
   "metadata": {},
   "outputs": [],
   "source": [
    "# def DoG(scales,orient,size):\n",
    "#     scale=range(1,scales+1,2)\n",
    "#     print(scale)\n",
    "#     orients=np.linspace(0,360,orient)\n",
    "#     kernels=[[0 for x in range(1,scales)]for y in range(1,orient)]\n",
    "#     for each in scale:\n",
    "#         kernel=gkern(size,each)\n",
    "#         border = cv2.borderInterpolate(0, 1, cv2.BORDER_CONSTANT)\n",
    "#         sobelx64f = cv2.Sobel(kernel,cv2.CV_64F,1,0,ksize=5, borderType=border)\n",
    "#         for i,eachOrient in enumerate(orients):\n",
    "#             plt.figure(figsize=(100,100))\n",
    "#             image=skimage.transform.rotate(sobelx64f,eachOrient)\n",
    "#             plt.subplots_adjust(hspace=0.1,wspace=1.5)\n",
    "#             plt.subplot(scales,orient,i+1)\n",
    "#             plt.imshow(image,cmap='binary')\n",
    "#             plt.show()"
   ]
  },
  {
   "cell_type": "code",
   "execution_count": null,
   "metadata": {},
   "outputs": [],
   "source": [
    "# DoG(6,90,4)"
   ]
  },
  {
   "cell_type": "code",
   "execution_count": null,
   "metadata": {},
   "outputs": [],
   "source": [
    "# kernels=[[0 for x in range(0,8 for y in range(1,2)]\n",
    "# kernels"
   ]
  },
  {
   "cell_type": "code",
   "execution_count": null,
   "metadata": {},
   "outputs": [],
   "source": [
    "# for i,val in enumerate(orients):\n",
    "#     print(i,val)"
   ]
  },
  {
   "cell_type": "code",
   "execution_count": 50,
   "metadata": {},
   "outputs": [
    {
     "data": {
      "text/plain": [
       "8"
      ]
     },
     "execution_count": 50,
     "metadata": {},
     "output_type": "execute_result"
    }
   ],
   "source": [
    "import numpy as np\n",
    "import scipy.stats as st\n",
    "import skimage.transform\n",
    "import matplotlib.pyplot as plt\n",
    "import cv2\n",
    "import scipy\n",
    "import sklearn\n",
    "\n",
    "orients=np.linspace(0,360,4)\n",
    "# kernels=[[0 for x in range(1,scales)]for y in range(1,4)]\n",
    "\n",
    "kernel=gkern(4,7)\n",
    "border = cv2.borderInterpolate(0, 1, cv2.BORDER_CONSTANT)\n",
    "sobelx64f = cv2.Sobel(kernel,cv2.CV_64F,1,0,ksize=5, borderType=border)\n",
    "DoG_stack = list()\n",
    "scale = [3, 5]\n",
    "size = [8]\n",
    "for each_scale in scale:\n",
    "    for each_size in size:\n",
    "        for index,eachOrient in enumerate(orients):\n",
    "            # plt.figure(figsize=(16,2))\n",
    "            image=skimage.transform.rotate(sobelx64f,eachOrient)\n",
    "            DoG_stack.append(image)\n",
    "len(DoG_stack)"
   ]
  },
  {
   "cell_type": "code",
   "execution_count": 51,
   "metadata": {},
   "outputs": [
    {
     "data": {
      "text/plain": [
       "array([[1., 1., 0., 0.],\n",
       "       [1., 1., 0., 0.],\n",
       "       [1., 1., 0., 0.],\n",
       "       [1., 1., 0., 0.]])"
      ]
     },
     "execution_count": 51,
     "metadata": {},
     "output_type": "execute_result"
    }
   ],
   "source": [
    "DoG_stack[0]"
   ]
  },
  {
   "cell_type": "code",
   "execution_count": null,
   "metadata": {},
   "outputs": [],
   "source": []
  },
  {
   "cell_type": "code",
   "execution_count": null,
   "metadata": {},
   "outputs": [],
   "source": []
  },
  {
   "cell_type": "code",
   "execution_count": null,
   "metadata": {},
   "outputs": [],
   "source": []
  },
  {
   "cell_type": "code",
   "execution_count": null,
   "metadata": {},
   "outputs": [],
   "source": [
    "\n"
   ]
  },
  {
   "cell_type": "code",
   "execution_count": null,
   "metadata": {},
   "outputs": [],
   "source": []
  },
  {
   "cell_type": "code",
   "execution_count": null,
   "metadata": {},
   "outputs": [],
   "source": [
    "\n",
    "\n"
   ]
  },
  {
   "cell_type": "code",
   "execution_count": null,
   "metadata": {},
   "outputs": [],
   "source": []
  },
  {
   "cell_type": "code",
   "execution_count": 52,
   "metadata": {},
   "outputs": [],
   "source": [
    "def gaussian1d(sigma, mean, x, ord):\n",
    "    x = np.array(x)\n",
    "    x_ = x - mean\n",
    "    var = sigma**2\n",
    "\n",
    "    # Gaussian Function\n",
    "    g1 = (1/np.sqrt(2*np.pi*var))*(np.exp((-1*x_*x_)/(2*var)))\n",
    "\n",
    "    if ord == 0:\n",
    "        g = g1\n",
    "        return g\n",
    "    elif ord == 1:\n",
    "        g = -g1*((x_)/(var))\n",
    "        return g\n",
    "    else:\n",
    "        g = g1*(((x_*x_) - var)/(var**2))\n",
    "        return g\n",
    "\n",
    "def gaussian2d(sup, scales):\n",
    "    var = scales * scales\n",
    "    shape = (sup,sup)\n",
    "    n,m = [(i - 1)/2 for i in shape]\n",
    "    x,y = np.ogrid[-m:m+1,-n:n+1]\n",
    "    g = (1/np.sqrt(2*np.pi*var))*np.exp( -(x*x + y*y) / (2*var) )\n",
    "    return g\n",
    "\n",
    "def log2d(sup, scales):\n",
    "    var = scales * scales\n",
    "    shape = (sup,sup)\n",
    "    n,m = [(i - 1)/2 for i in shape]\n",
    "    x,y = np.ogrid[-m:m+1,-n:n+1]\n",
    "    g = (1/np.sqrt(2*np.pi*var))*np.exp( -(x*x + y*y) / (2*var) )\n",
    "    h = g*((x*x + y*y) - var)/(var**2)\n",
    "    return h\n",
    "\n",
    "def makefilter(scale, phasex, phasey, pts, sup):\n",
    "\n",
    "    gx = gaussian1d(3*scale, 0, pts[0,...], phasex)\n",
    "    gy = gaussian1d(scale,   0, pts[1,...], phasey)\n",
    "\n",
    "    image = gx*gy\n",
    "\n",
    "    image = np.reshape(image,(sup,sup))\n",
    "    return image\n",
    "\n",
    "def makeLMfilters():\n",
    "    sup     = 49\n",
    "    scalex  = np.sqrt(2) * np.array([1,2,3])\n",
    "    norient = 6\n",
    "    nrotinv = 12\n",
    "\n",
    "    nbar  = len(scalex)*norient\n",
    "    nedge = len(scalex)*norient\n",
    "    nf    = nbar+nedge+nrotinv\n",
    "    F     = np.zeros([sup,sup,nf])\n",
    "    hsup  = (sup - 1)/2\n",
    "\n",
    "    x = [np.arange(-hsup,hsup+1)]\n",
    "    y = [np.arange(-hsup,hsup+1)]\n",
    "\n",
    "    [x,y] = np.meshgrid(x,y)\n",
    "\n",
    "    orgpts = [x.flatten(), y.flatten()]\n",
    "    orgpts = np.array(orgpts)\n",
    "\n",
    "    count = 0\n",
    "    for scale in range(len(scalex)):\n",
    "        for orient in range(norient):\n",
    "            angle = (np.pi * orient)/norient\n",
    "            c = np.cos(angle)\n",
    "            s = np.sin(angle)\n",
    "            rotpts = [[c+0,-s+0],[s+0,c+0]]\n",
    "            rotpts = np.array(rotpts)\n",
    "            rotpts = np.dot(rotpts,orgpts)\n",
    "            F[:,:,count] = makefilter(scalex[scale], 0, 1, rotpts, sup)\n",
    "            F[:,:,count+nedge] = makefilter(scalex[scale], 0, 2, rotpts, sup)\n",
    "            count = count + 1\n",
    "\n",
    "    count = nbar+nedge\n",
    "    scales = np.sqrt(2) * np.array([1,2,3,4])\n",
    "\n",
    "    for i in range(len(scales)):\n",
    "        F[:,:,count]   = gaussian2d(sup, scales[i])\n",
    "        count = count + 1\n",
    "\n",
    "    for i in range(len(scales)):\n",
    "        F[:,:,count] = log2d(sup, scales[i])\n",
    "        count = count + 1\n",
    "\n",
    "    for i in range(len(scales)):\n",
    "        F[:,:,count] = log2d(sup, 3*scales[i])\n",
    "        count = count + 1\n",
    "\n",
    "    return F\n",
    "\n",
    "\n"
   ]
  },
  {
   "cell_type": "code",
   "execution_count": 64,
   "metadata": {},
   "outputs": [],
   "source": [
    "def gkern(kernlen, nsig):\n",
    "    \"\"\"Returns a 2D Gaussian kernel array.\"\"\"\n",
    "\n",
    "    interval = (2*nsig+1.)/(kernlen)\n",
    "    x = np.linspace(-nsig-interval/2., nsig+interval/2., kernlen+1)\n",
    "    kern1d = np.diff(st.norm.cdf(x))\n",
    "    kernel_raw = np.sqrt(np.outer(kern1d, kern1d))\n",
    "    kernel = kernel_raw/kernel_raw.sum()\n",
    "    return kernel\n",
    "\n",
    "\n",
    "def DoG(scales,orient,size):\n",
    "#     scale=range(1,scales+1)\n",
    "    # print(scale)\n",
    "    orients=np.linspace(0,360,orient)\n",
    "    # kernels=[[0 for x in range(1,scales)]for y in range(1,orient)]\n",
    "    DoG_stack = list()\n",
    "    for each_scale in scales:\n",
    "        for each_size in size:\n",
    "            kernel=gkern(each_size,each_scale)\n",
    "            border = cv2.borderInterpolate(0, 1, cv2.BORDER_CONSTANT)\n",
    "            sobelx64f = cv2.Sobel(kernel,cv2.CV_64F,1,0,ksize=5, borderType=border)\n",
    "            for index,eachOrient in enumerate(orients):\n",
    "                # plt.figure(figsize=(16,2))\n",
    "                image=skimage.transform.rotate(sobelx64f,eachOrient)\n",
    "                DoG_stack.append(image)\n",
    "\n",
    "\t            # plt.subplots_adjust(hspace=0.1,wspace=1.5)\n",
    "\t            # plt.subplot(scales,orient,index+1)\n",
    "\t            # plt.imshow(image,cmap='binary')\n",
    "\t            # plt.show()\n",
    "    return DoG_stack\n",
    "\n",
    "\n",
    "def gabor_filter_list(num_filters):\n",
    "\tgabor_filter = list()\n",
    "\tfor each in range(1,num_filters):\n",
    "\t\tsigma = random.randint(3,6)\n",
    "\t\ttheta = random.uniform(0,3.14)\n",
    "\t\tLambda = random.randint(3,10)\n",
    "\t\tpsi = random.randint(3,14)\n",
    "\t\t# gamma = random.randint(3,6)\n",
    "\t\tgamma = 1\n",
    "\t\tgabor_filter.append(gabor_fn(sigma,theta,Lambda,psi,gamma))\n",
    "\treturn gabor_filter\n",
    "\n",
    "\n",
    "def filter_bank():\n",
    "    scale_list = [3,5,7,9]\n",
    "    size_list = [7,11,15]\n",
    "    orient = 16\n",
    "    DoG_filters = DoG(scales=scale_list, orient = orient,size=size_list)\n",
    "    LM_filters = makeLMfilters()\n",
    "    gabor_filters = gabor_filter_list(10)\n",
    "    return DoG_filters, LM_filters, gabor_filters\n",
    "\n",
    "\n",
    "\n",
    "def texton_tensor(Img_gray):\n",
    "    N_dim_tensor = Img_gray\n",
    "#     N_dim_tensor_lm = Img_gray\n",
    "#     N_dim_tensor_gabor = Img_gray\n",
    "    \n",
    "    DoG_filters, LM_filters, gabor_filters = filter_bank()\n",
    "    \n",
    "    for each in range(len(DoG_filters)):\n",
    "        # kernel_op = cv2.filter2D(Img_gray,-1,filter_bank[:,:,each])\n",
    "        kernel_op = cv2.filter2D(Img_gray,-1,DoG_filters[each])\n",
    "        N_dim_tensor = np.dstack((N_dim_tensor,kernel_op))\n",
    "    \n",
    "    for each in range(len(LM_filters)):\n",
    "        # kernel_op = cv2.filter2D(Img_gray,-1,filter_bank[:,:,each])\n",
    "        kernel_op = cv2.filter2D(Img_gray,-1,LM_filters[each])\n",
    "        N_dim_tensor = np.dstack((N_dim_tensor,kernel_op))\n",
    "    \n",
    "    \n",
    "    for each in range(len(gabor_filters)):\n",
    "        # kernel_op = cv2.filter2D(Img_gray,-1,filter_bank[:,:,each])\n",
    "        kernel_op = cv2.filter2D(Img_gray,-1,gabor_filters[each])\n",
    "        N_dim_tensor = np.dstack((N_dim_tensor,kernel_op))\n",
    "    \n",
    "    return N_dim_tensor\n"
   ]
  },
  {
   "cell_type": "code",
   "execution_count": 65,
   "metadata": {},
   "outputs": [
    {
     "data": {
      "image/png": "[encoded data removed]",
      "text/plain": [
       "<Figure size 432x288 with 1 Axes>"
      ]
     },
     "metadata": {
      "needs_background": "light"
     },
     "output_type": "display_data"
    }
   ],
   "source": [
    "img = cv2.imread('/home/pratique/Downloads/cmsc733/Homework0/116353601_hw0/Phase1/BSDS500/Images/1.jpg')\n",
    "img_gray = cv2.cvtColor(img, cv2.COLOR_BGR2GRAY)\n",
    "N_dim_tensor_dog = texton_tensor(img_gray)\n",
    "p,q,r = np.shape(N_dim_tensor_dog)\n",
    "inp = np.reshape(N_dim_tensor_dog,((p*q),r))\n",
    "kmeans = sklearn.cluster.KMeans(n_clusters = 64, random_state = 2)\n",
    "kmeans.fit(inp)\n",
    "labels = kmeans.predict(inp)\n",
    "l = np.reshape(labels,(p,q))\n",
    "plt.imshow(l)\n",
    "plt.show()\n"
   ]
  },
  {
   "cell_type": "code",
   "execution_count": 85,
   "metadata": {},
   "outputs": [
    {
     "data": {
      "image/png": "[encoded data removed]",
      "text/plain": [
       "<Figure size 432x288 with 1 Axes>"
      ]
     },
     "metadata": {
      "needs_background": "light"
     },
     "output_type": "display_data"
    }
   ],
   "source": [
    "# brightness kmean\n",
    "p,q= np.shape(img_gray)\n",
    "inp = np.reshape(img_gray,((p*q),1))\n",
    "kmeans = sklearn.cluster.KMeans(n_clusters = 16, random_state = 2)\n",
    "kmeans.fit(inp)\n",
    "labels = kmeans.predict(inp)\n",
    "l = np.reshape(labels,(p,q))\n",
    "plt.imshow(l,cmap = 'binary')\n",
    "plt.show()\n"
   ]
  },
  {
   "cell_type": "code",
   "execution_count": 84,
   "metadata": {},
   "outputs": [
    {
     "data": {
      "image/png": "[encoded data removed]",
      "text/plain": [
       "<Figure size 432x288 with 1 Axes>"
      ]
     },
     "metadata": {
      "needs_background": "light"
     },
     "output_type": "display_data"
    }
   ],
   "source": [
    "# img_lab = cv2.cvtColor(img, CV_BGR2Lab)\n",
    "img_hsv = cv2.cvtColor(img, cv2.COLOR_BGR2HSV);\n",
    "p,q,r = np.shape(img)\n",
    "inp = np.reshape(img,((p*q),r))\n",
    "kmeans = sklearn.cluster.KMeans(n_clusters = 16, random_state = 2)\n",
    "kmeans.fit(inp)\n",
    "labels = kmeans.predict(inp)\n",
    "l = np.reshape(labels,(p,q))\n",
    "plt.imshow(l)\n",
    "plt.show()"
   ]
  },
  {
   "cell_type": "code",
   "execution_count": 180,
   "metadata": {},
   "outputs": [],
   "source": [
    "def single_half_disk(radius):\n",
    "    two_r_plus_1 = radius*2 + 1\n",
    "    half_disk = np.ones([two_r_plus_1, two_r_plus_1])\n",
    "\n",
    "    rs = np.power(radius,2)\n",
    "    for i in range(radius):\n",
    "        iss = np.power((i - radius),2)\n",
    "        \n",
    "        for j in range(two_r_plus_1):\n",
    "            if (iss+ np.power((j - radius),2) < rs):\n",
    "                half_disk[i, j] = 0\n",
    "    return half_disk\n",
    "    "
   ]
  },
  {
   "cell_type": "code",
   "execution_count": 182,
   "metadata": {},
   "outputs": [
    {
     "data": {
      "image/png": "[encoded data removed]",
      "text/plain": [
       "<Figure size 432x288 with 1 Axes>"
      ]
     },
     "metadata": {
      "needs_background": "light"
     },
     "output_type": "display_data"
    }
   ],
   "source": [
    "half_disk = single_half_disk(26)\n",
    "plt.imshow(half_disk, cmap = 'binary')\n",
    "plt.show()"
   ]
  },
  {
   "cell_type": "code",
   "execution_count": 197,
   "metadata": {},
   "outputs": [],
   "source": [
    "def half_disk_bank(radius_list,orient):\n",
    "    # scale=range(1,scales+1)\n",
    "    # print(scale)\n",
    "    orients=np.linspace(0,360,orient)\n",
    "    # kernels=[[0 for x in range(1,scales)]for y in range(1,orient)]\n",
    "    half_disk_bank_op = list()\n",
    "    for each_rad in radius_list:\n",
    "        one_half_disk=single_half_disk(each_rad)\n",
    "        for eachOrient in orients:\n",
    "            image=skimage.transform.rotate(one_half_disk,eachOrient)\n",
    "            half_disk_bank_op.append(image)\n",
    "    return half_disk_bank_op\n"
   ]
  },
  {
   "cell_type": "code",
   "execution_count": 198,
   "metadata": {},
   "outputs": [
    {
     "ename": "TypeError",
     "evalue": "'dict' object is not callable",
     "output_type": "error",
     "traceback": [
      "\u001b[0;31m---------------------------------------------------------------------------\u001b[0m",
      "\u001b[0;31mTypeError\u001b[0m                                 Traceback (most recent call last)",
      "\u001b[0;32m<ipython-input-198-245bc70e6a23>\u001b[0m in \u001b[0;36m<module>\u001b[0;34m()\u001b[0m\n\u001b[1;32m      1\u001b[0m \u001b[0mradius_list\u001b[0m \u001b[0;34m=\u001b[0m \u001b[0;34m[\u001b[0m\u001b[0;36m7\u001b[0m\u001b[0;34m,\u001b[0m\u001b[0;36m20\u001b[0m\u001b[0;34m,\u001b[0m\u001b[0;36m35\u001b[0m\u001b[0;34m]\u001b[0m\u001b[0;34m\u001b[0m\u001b[0m\n\u001b[1;32m      2\u001b[0m \u001b[0morient\u001b[0m \u001b[0;34m=\u001b[0m \u001b[0;36m4\u001b[0m\u001b[0;34m\u001b[0m\u001b[0m\n\u001b[0;32m----> 3\u001b[0;31m \u001b[0mhalf_disk\u001b[0m \u001b[0;34m=\u001b[0m \u001b[0mhalf_disk_bank\u001b[0m\u001b[0;34m(\u001b[0m\u001b[0mradius_list\u001b[0m\u001b[0;34m,\u001b[0m\u001b[0morient\u001b[0m\u001b[0;34m)\u001b[0m\u001b[0;34m\u001b[0m\u001b[0m\n\u001b[0m\u001b[1;32m      4\u001b[0m \u001b[0mplt\u001b[0m\u001b[0;34m.\u001b[0m\u001b[0mimshow\u001b[0m\u001b[0;34m(\u001b[0m\u001b[0mhalf_disk\u001b[0m\u001b[0;34m,\u001b[0m \u001b[0mcmap\u001b[0m \u001b[0;34m=\u001b[0m \u001b[0;34m'binary'\u001b[0m\u001b[0;34m)\u001b[0m\u001b[0;34m\u001b[0m\u001b[0m\n\u001b[1;32m      5\u001b[0m \u001b[0mplt\u001b[0m\u001b[0;34m.\u001b[0m\u001b[0mshow\u001b[0m\u001b[0;34m(\u001b[0m\u001b[0;34m)\u001b[0m\u001b[0;34m\u001b[0m\u001b[0m\n",
      "\u001b[0;32m<ipython-input-197-26e221602091>\u001b[0m in \u001b[0;36mhalf_disk_bank\u001b[0;34m(radius_list, orient)\u001b[0m\n\u001b[1;32m      4\u001b[0m     \u001b[0morients\u001b[0m\u001b[0;34m=\u001b[0m\u001b[0mnp\u001b[0m\u001b[0;34m.\u001b[0m\u001b[0mlinspace\u001b[0m\u001b[0;34m(\u001b[0m\u001b[0;36m0\u001b[0m\u001b[0;34m,\u001b[0m\u001b[0;36m360\u001b[0m\u001b[0;34m,\u001b[0m\u001b[0morient\u001b[0m\u001b[0;34m)\u001b[0m\u001b[0;34m\u001b[0m\u001b[0m\n\u001b[1;32m      5\u001b[0m     \u001b[0;31m# kernels=[[0 for x in range(1,scales)]for y in range(1,orient)]\u001b[0m\u001b[0;34m\u001b[0m\u001b[0;34m\u001b[0m\u001b[0m\n\u001b[0;32m----> 6\u001b[0;31m     \u001b[0mhalf_disk_bank_op\u001b[0m \u001b[0;34m=\u001b[0m \u001b[0mlist\u001b[0m\u001b[0;34m(\u001b[0m\u001b[0;34m)\u001b[0m\u001b[0;34m\u001b[0m\u001b[0m\n\u001b[0m\u001b[1;32m      7\u001b[0m     \u001b[0;32mfor\u001b[0m \u001b[0meach_rad\u001b[0m \u001b[0;32min\u001b[0m \u001b[0mradius_list\u001b[0m\u001b[0;34m:\u001b[0m\u001b[0;34m\u001b[0m\u001b[0m\n\u001b[1;32m      8\u001b[0m         \u001b[0mone_half_disk\u001b[0m\u001b[0;34m=\u001b[0m\u001b[0msingle_half_disk\u001b[0m\u001b[0;34m(\u001b[0m\u001b[0meach_rad\u001b[0m\u001b[0;34m)\u001b[0m\u001b[0;34m\u001b[0m\u001b[0m\n",
      "\u001b[0;31mTypeError\u001b[0m: 'dict' object is not callable"
     ]
    }
   ],
   "source": [
    "radius_list = [7,20,35]\n",
    "orient = 4\n",
    "half_disk = half_disk_bank(radius_list,orient)\n",
    "plt.imshow(half_disk, cmap = 'binary')\n",
    "plt.show()"
   ]
  },
  {
   "cell_type": "code",
   "execution_count": 200,
   "metadata": {},
   "outputs": [
    {
     "ename": "TypeError",
     "evalue": "'dict' object is not callable",
     "output_type": "error",
     "traceback": [
      "\u001b[0;31m---------------------------------------------------------------------------\u001b[0m",
      "\u001b[0;31mTypeError\u001b[0m                                 Traceback (most recent call last)",
      "\u001b[0;32m<ipython-input-200-9b322a8ba26e>\u001b[0m in \u001b[0;36m<module>\u001b[0;34m()\u001b[0m\n\u001b[0;32m----> 1\u001b[0;31m \u001b[0mhalf_disk_bank_op\u001b[0m \u001b[0;34m=\u001b[0m \u001b[0mlist\u001b[0m\u001b[0;34m(\u001b[0m\u001b[0;34m)\u001b[0m\u001b[0;34m\u001b[0m\u001b[0m\n\u001b[0m",
      "\u001b[0;31mTypeError\u001b[0m: 'dict' object is not callable"
     ]
    }
   ],
   "source": [
    "half_disk_bank_op = list()"
   ]
  },
  {
   "cell_type": "code",
   "execution_count": null,
   "metadata": {},
   "outputs": [],
   "source": []
  },
  {
   "cell_type": "code",
   "execution_count": null,
   "metadata": {},
   "outputs": [],
   "source": []
  }
 ],
 "metadata": {
  "kernelspec": {
   "display_name": "Python 2",
   "language": "python",
   "name": "python2"
  },
  "language_info": {
   "codemirror_mode": {
    "name": "ipython",
    "version": 2
   },
   "file_extension": ".py",
   "mimetype": "text/x-python",
   "name": "python",
   "nbconvert_exporter": "python",
   "pygments_lexer": "ipython2",
   "version": "2.7.12"
  }
 },
 "nbformat": 4,
 "nbformat_minor": 2
}
